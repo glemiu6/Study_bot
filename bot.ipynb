{
 "cells": [
  {
   "cell_type": "code",
   "id": "initial_id",
   "metadata": {
    "collapsed": true,
    "ExecuteTime": {
     "end_time": "2025-06-05T09:29:41.346868Z",
     "start_time": "2025-06-05T09:29:41.322061Z"
    }
   },
   "source": [
    "import fitz\n",
    "import chromadb\n",
    "from langchain.text_splitter import RecursiveCharacterTextSplitter\n",
    "from sentence_transformers import SentenceTransformer\n",
    "from docx import Document\n",
    "from langchain_ollama import OllamaLLM"
   ],
   "outputs": [],
   "execution_count": 9
  },
  {
   "metadata": {
    "ExecuteTime": {
     "end_time": "2025-06-05T09:30:07.077953Z",
     "start_time": "2025-06-05T09:30:07.074954Z"
    }
   },
   "cell_type": "code",
   "source": [
    "def get_pdf(file):\n",
    "    text = \"\"\n",
    "    if file.endswith(\".pdf\"):\n",
    "        document = fitz.open(file)\n",
    "\n",
    "        for page in document:\n",
    "            text+=page.get_text()\n",
    "    elif file.endswith(\".DOCX\"):\n",
    "        document = Document(file)\n",
    "        for page in document.paragraphs:\n",
    "            text+=page.text+'\\n'\n",
    "    return text"
   ],
   "id": "35937e380c13fcdd",
   "outputs": [],
   "execution_count": 12
  },
  {
   "metadata": {
    "ExecuteTime": {
     "end_time": "2025-06-05T09:30:07.562798Z",
     "start_time": "2025-06-05T09:30:07.530280Z"
    }
   },
   "cell_type": "code",
   "source": "print(get_pdf('PGP-2425-PR-2 (REL).DOCX'))",
   "id": "72a5522171227fec",
   "outputs": [
    {
     "name": "stdout",
     "output_type": "stream",
     "text": [
      "\n",
      "Planeamento e Gestão de Projeto\n",
      "Ano Letivo 2024/2025\n",
      "Tema do Projeto\n",
      "Relatório da Etapa 2\n",
      "Grupo YY\n",
      "Nome 1\t99999\n",
      "Nome 2\t99999\n",
      "Nome 3\t99999\n",
      "Nome 4\t99999\n",
      "Nome 5\t99999\n",
      "Nome 6\t99999\n",
      "\n",
      "Índice\n",
      "Introdução\t3\n",
      "1. Recursos\t3\n",
      "1.1. Pessoas da equipa\t3\n",
      "1.2. Ferramentas de desenvolvimento\t3\n",
      "1.3. Software para o sistema\t3\n",
      "2. Estimativas\t4\n",
      "2.1. Esforço disponível\t4\n",
      "2.2. Dados históricos\t4\n",
      "2.3. Estimativas baseadas em linhas de código\t4\n",
      "2.4. Estimativas baseadas no modelo COCOMO\t4\n",
      "3. Processo de desenvolvimento de software\t5\n",
      "4. Organização da equipa\t5\n",
      "5. Planeamento do projeto\t5\n",
      "5.1. Work packages\t5\n",
      "5.2. Calendarização\t6\n",
      "6. Gestão de riscos\t6\n",
      "6.1. Lista de riscos\t6\n",
      "6.2. Tabela de riscos\t6\n",
      "6.3. Plano RMMM\t6\n",
      "Conclusão\t6\n",
      "Bibliografia\t7\n",
      "Apêndice\t8\n",
      "\n",
      "\n",
      "Introdução\n",
      "Descrição do contexto, problema a resolver e sua importância, objetivos e mais valias do projeto, e síntese dos aspetos cobertos no relatório. Deve ser citado o enunciado do projeto, pois é aí que estão os requisitos de informação, funcionais, e não funcionais.\n",
      "Recursos\n",
      "Pessoas da equipa\n",
      "Devem ser apresentadas as pessoas da equipa, com um breve sumário de outras atividades que vão precisar de realizar durante o período previsto para o projeto, tais como unidades curriculares e assuntos pessoais (por exemplo, treino desportivo).\n",
      "Com base na informação anterior, deve ser apresentada uma tabela e um gráfico com as disponibilidades de cada pessoa em cada semana, considerando fatores específicos como, por exemplo, as pausas letivas do Carnaval e da Páscoa e as datas de entrega de outros projetos ou de testes e exames, as quais podem ser estimadas pesquisando o que aconteceu no ano letivo anterior.\n",
      "Também deve ser incluída uma tabela com as competências de cada pessoa da equipa, organizada em técnicas e pessoais, com escala devidamente documentada.\n",
      "Ferramentas de desenvolvimento\n",
      "Mencionar o software que se prevê ser útil para a atividade de construção do sistema, com justificação do propósito, bem como o correspondente hardware, tais como computadores portáteis.\n",
      "A bibliografia deve incluir referências para editores de código, como o Eclipse [3] ou o Visual Studio Code [10], documentação de linguagens de programação, como a PHP [7], bibliotecas, como a jQuery [6], frameworks de desenvolvimento ou de testes, como a JUnit [13], geradores de documentação, como a JavaDoc [11], e outras ferramentas, por exemplo relacionadas com a gestão do projeto, como o Project [9], controlo de versões, como o Git [4], e com a comunicação por videoconferência, bem como com computação em nuvem.\n",
      "Software para o sistema\n",
      "Lista do software necessário, e seu propósito, para que o sistema esteja em operação, incluindo servidores web e aplicacionais, sistemas de gestão de bases de dados, serviços de computação em nuvem, como os Amazon Web Services [1], a Microsoft Azure [8], e a Google Cloud [5], e outros produtos que contribuam para o funcionamento do sistema. A bibliografia deve incluir referências para as páginas web de todo o software.\n",
      "Estimativas\n",
      "Esforço disponível\n",
      "Deve ser calculado o esforço que a equipa pode dedicar ao projeto, com base nas disponibilidades de cada pessoa indicadas na secção 1.1, e na duração do projeto, sendo esta última dependente da data prevista de início e de conclusão.\n",
      "Dados históricos\n",
      "Apresentar, para cada elemento da equipa, dados relativos a projetos passados, indicando uma breve descrição do projeto, a linguagem de programação utilizada, o total de linhas de código, a duração, o esforço, e a produtividade. Estes dados podem ser compilados em uma ou mais tabelas para facilitar o cálculo de valores agregados, como médias, mínimos, e máximos.\n",
      "Se existir muita repetição de dados, por exemplo, se vários membros da equipa tiverem pertencido aos mesmos grupos que realizaram os projetos passados, a organização deste capítulo deve passar a ser feita de forma cronológica ou segundo outro critério, como o tamanho do projeto.\n",
      "No final desta secção devem ser apresentados histogramas das linhas de código e das produtividades de todos os projetos passados considerados, devendo também ser mencionada a produtividade que o grupo considera ser representativa da sua capacidade de trabalho, para ser usada nas secções seguintes.\n",
      "Estimativas baseadas em linhas de código\n",
      "Como é mais difícil estimar de uma só vez para todo o sistema, este deve ser primeiro decomposto em componentes. Estas componentes devem ser principalmente obtidas a partir dos requisitos funcionais identificados no enunciado do projeto, mas também podem advir do suporte aos requisitos não funcionais\n",
      "Para cada componente do sistema, e com base nos dados históricos da secção anterior, deve ser estimado o número de linhas de código em três cenários: otimista, provável, e pessimista. A partir destes valores, pode, então, ser calculado o total de linhas de código previsto para todo o sistema.\n",
      "Por fim, a partir dos dados históricos de produtividade na secção anterior, deve ser estimado o esforço necessário para desenvolver o sistema, o qual deve ser confrontado com o que a equipa pode disponibilizar, apresentado na secção 2.1.\n",
      "Estimativas baseadas no modelo COCOMO\n",
      "Tendo por base o total de linhas de código obtido na seção anterior, deve ser aplicado o modelo COCOMO II [2] para estimar o esforço e o tempo para desenvolver o sistema. Os fatores de escala devem ser justificados se forem muito elevados ou reduzidos e o mesmo acontece com os atributos de produto, pessoas, plataforma, e projeto. Os valores de todos estes fatores e atributos devem ser sempre mostrados no relatório, para se poder repetir o cálculo de forma independente.\n",
      "Deve ser feita uma análise crítica dos valores devolvidos pelo modelo COCOMO II, comparando o esforço com o disponível na secção 2.1 e o estimado na secção 2.3, comentando a dimensão da equipa sugerida bem como a duração do projeto, e confrontando valores de produtividade.\n",
      "Processo de desenvolvimento de software\n",
      "Indicar o modelo de processo escolhido para desenvolver o software, apresentando os critérios usados para justificar a decisão, sendo, contudo, recomendada a escolha de um modelo de processo ágil. Deve ser feita uma síntese das caraterísticas do modelo, com citação de uma referência na bibliografia caso o leitor pretenda obter mais informações. Devem também ser apresentadas duas listas, uma com vantagens e outra com desvantagens da aplicação do modelo no contexto deste projeto.\n",
      "Por fim, devem ser feitos esclarecimentos sobre a implementação do modelo de processo, explicitando, por exemplo, o número previsto de incrementos, de protótipos, de iterações de espiral, de sprints, entre outros aspetos que precisam de concretização para se poder fazer o planeamento do projeto.\n",
      "Organização da equipa\n",
      "Deve ser indicado o paradigma de organização da equipa de desenvolvimento, cuja escolha deve ser justificada tendo em conta as pessoas da equipa mencionadas na secção 1.1, o processo de desenvolvimento de software no capítulo 3, e outros aspetos que sejam considerados relevantes, como o tamanho e complexidade do sistema.\n",
      "Devem ser identificados papéis relevantes dentro da equipa, tais como, gestor do projeto, consultor de dados, programador de front end e de back end, administrador de base de dados, arquiteto de sistema, especialista de redes e de segurança, técnico de manutenção, e responsável de testes com utilizadores. Também é necessário indicar que pessoas vão desempenhar os papéis.\n",
      "Planeamento do projeto\n",
      "Em todas as secções deste capítulo deve haver o cuidado de alinhamento com o processo de desenvolvimento de software escolhido no capítulo 3, com os requisitos funcionais e não funcionais no enunciado do projeto, e com outros materiais existentes no relatório.\n",
      "Work packages\n",
      "O trabalho a realizar no projeto deve ser decomposto em work packages, os quais podem ser vistos como conjuntos de tarefas para um objetivo comum, com um mínimo de dependências com tarefas de outros work packages (significando que podem, idealmente, ser executados de forma autónoma por diferentes subequipas), e usualmente com resultados reconhecíveis pelo cliente.\n",
      "Cada work package deve ter um número identificador (por exemplo, WP1), uma descrição curta, recursos atribuídos, com uma breve justificação, um intervalo temporal, que pode até cobrir toda a duração do projeto, eventuais dependências com outros work packages, as tarefas, que também devem estar numeradas, e os principais resultados.\n",
      "Calendarização\n",
      "Deve incluir um mapa de Gantt com os work packages e suas tarefas, todas com pessoas atribuídas, dependências entre si, dias previstos, que devem ser coerentes com os intervalos temporais na secção anterior, e milestones. Estas últimas devem poder servir para avaliar o progresso do projeto e devem também ser mostradas em forma de lista nesta secção, juntamente com um breve comentário sobre o que é entregue ao cliente.\n",
      "Também deve ser mostrada uma tabela com as horas de trabalho estimadas para cada recurso humano, por exemplo, resultante da vista de “Resource Usage” do Project [9].\n",
      "Gestão de riscos\n",
      "Lista de riscos\n",
      "Identificação e descrição dos riscos e suas consequências, com referência a eventuais fontes de informação com checklists. Habitualmente consideram-se três categorias de riscos, nomeadamente de projeto, técnicos, e de mercado [12, cap. 35], mas podem ser usadas outras. Se existirem muitas categorias, é comum serem referidas pelas siglas.\n",
      "Tabela de riscos\n",
      "Tabela de riscos, cada um com nome, categoria, probabilidade, e impacto, com escalas devidamente definidas. A tabela deve estar ordenada e incluir uma linha de corte. A probabilidade pode ser qualitativa, em vez de percentual.\n",
      "Plano RMMM\n",
      "Para cada um dos riscos mais importantes, acima da linha de corte, indicar formas assertivas de mitigação, monitorização, e gestão. Por exemplo, não se pretendem ações do tipo “estudar soluções existentes no mercado,” mas sim “usar a ferramenta alternativa X.”\n",
      "Conclusão\n",
      "Deve começar com um breve sumário dos aspetos cobertos no relatório, eventualmente mencionando dificuldades de execução em partes específicas.\n",
      "Depois deve ser feita uma análise crítica da viabilidade do projeto face às estimativas. Se existirem evidências que o projeto pode não ser exequível, devem ser apresentadas as principais soluções, que devem estar alinhadas com a gestão de riscos no capítulo 6.\n",
      "Bibliografia\n",
      "Deve ser apresentada uma lista numerada com todas as referências citadas ao longo do relatório, incluindo o enunciado do projeto, que pode estar ordenada pela ordem de aparecimento no texto (como no exemplo em baixo), ou, também muito comum, por último nome do primeiro autor.\n",
      "As referências devem cobrir os diferentes aspetos abordados no relatório e estar completas, incluindo autores (se conhecidos) ou organização, ano de publicação (se disponível), título do documento, número de edição e editora (no caso de livros e artigos de revista), e a data da consulta mais recente de um endereço na web (se aplicável).\n",
      "[1]\tAmazon. Amazon Web Services. Acedido em setembro de 2024, em\n",
      "https://aws.amazon.com.\n",
      "[2]\tCOCOMO II Calculator. Acedido em novembro de 2024, em\n",
      "http://softwarecost.org/tools/COCOMO.\n",
      "[3]\tEclipse Foundation. Eclipse Installer. Acedido em novembro de 2024, em\n",
      "https://www.eclipse.org/downloads/packages/installer.\n",
      "[4]\tGit Community. Git Documentation. Acedido em novembro de 2024, em https://git-scm.com/doc.\n",
      "[5]\tGoogle. Google Cloud. Acedido em novembro de 2024, em\n",
      "https://cloud.google.com.\n",
      "[6]\tjQuery Foundation. jQuery API. Acedido em novembro de 2024, em\n",
      "https://api.jquery.com.\n",
      "[7]\tMehdi Achour, Friedhelm Betz, et al.. PHP Manual. Acedido em novembro de 2024, em https://php.net/manual/en.\n",
      "[8]\tMicrosoft. Microsoft Azure. Acedido em novembro de 2024, em\n",
      "https://azure.microsoft.com.\n",
      "[9]\tMicrosoft. Project Help and Learning. Acedido em novembro de 2024, em\n",
      "https://support.office.com/en-us/project.\n",
      "[10]\tMicrosoft. Visual Studio Code. Acedido em novembro de 2024, em\n",
      "https://code.visualstudio.com.\n",
      "[11]\tOracle. How to write doc comments for the Javadoc tool. Acedido em novembro de 2024, em https://www.oracle.com/technical-resources/articles/java/javadoc-tool.html.\n",
      "[12]\tRoger S. Pressman e Bruce R. Maxim (2014). Software Engineering: A Practitioner's Approach. 8ª edição, McGraw-Hill.\n",
      "[13]\tStefan Bechtold, Sam Brannen, et al.. JUnit 5 User Guide. Acedido em novembro de 2024, em https://junit.org/junit5/docs/current/user-guide.\n",
      "\n",
      "Apêndice\n",
      "Colocar aqui os diagramas revistos provenientes da etapa 1 do projeto.\n",
      "\n"
     ]
    }
   ],
   "execution_count": 13
  },
  {
   "metadata": {
    "ExecuteTime": {
     "end_time": "2025-06-05T00:46:01.789051Z",
     "start_time": "2025-06-05T00:46:01.786338Z"
    }
   },
   "cell_type": "code",
   "source": [
    "def get_pdf(file):\n",
    "    document = fitz.open(file)\n",
    "    text=\"\"\n",
    "    for page in document:\n",
    "        text+=page.get_text()\n",
    "    return text"
   ],
   "id": "97196225b5cfb310",
   "outputs": [],
   "execution_count": 8
  },
  {
   "metadata": {
    "ExecuteTime": {
     "end_time": "2025-06-05T00:28:00.159090Z",
     "start_time": "2025-06-05T00:28:00.152490Z"
    }
   },
   "cell_type": "code",
   "source": "print(get_pdf('test.pdf'))",
   "id": "f518cfdb89fc46be",
   "outputs": [
    {
     "name": "stdout",
     "output_type": "stream",
     "text": [
      "test\n",
      "aici testez filurile\n",
      "test\n",
      "1\n",
      "\n"
     ]
    }
   ],
   "execution_count": 3
  },
  {
   "metadata": {
    "ExecuteTime": {
     "end_time": "2025-06-05T00:46:04.693605Z",
     "start_time": "2025-06-05T00:46:04.690391Z"
    }
   },
   "cell_type": "code",
   "source": [
    "def chunking(text):\n",
    "    text_splitter=RecursiveCharacterTextSplitter.from_tiktoken_encoder(encoding_name=\"cl100k_base\",chunk_size=500,chunk_overlap=50)\n",
    "    texts=text_splitter.split_text(text)\n",
    "    return texts"
   ],
   "id": "52f8380784e6abf1",
   "outputs": [],
   "execution_count": 9
  },
  {
   "metadata": {
    "ExecuteTime": {
     "end_time": "2025-06-05T00:16:14.598637Z",
     "start_time": "2025-06-05T00:16:14.557652Z"
    }
   },
   "cell_type": "code",
   "source": [
    "text=get_pdf('T04_Camada_Rede.pdf')\n",
    "print(chunking(text))"
   ],
   "id": "e4c0c2d5656d162b",
   "outputs": [
    {
     "name": "stdout",
     "output_type": "stream",
     "text": [
      "['T04- Camada rede\\nSubjects\\nRC\\nServiços da camada de rede\\nTransporte de datagramas entre computadores\\nOs protocolos desta camada correm nos nós terminais e nos routers \\nOs routers examinam os cabeçalhos IP de todos os datagramas\\nDuas funções chave\\nRouting → Determine o caminho origem-destino , Ação global\\nForwarding → Mover pacotes que chega no router para a saída apropriada; \\nAção local no router\\nAnalogia: \\nO routing e planeamento de uma viagem\\nO forwarding e a passar um cruzamento \\nRouting vs forwarding \\nalgoritmo de routing → Determina a rota através da rede\\ntabela forwarding local → Determina como o pacote deve ser encaminhado neste \\nrouter \\nPlano de dados e Plano de controlo\\nPlano de dados:\\nPlano de controlo:\\nT04- Camada rede\\n1\\nfunção local em cada router\\ndetermina o caminho de \\ndatagrama e a saida\\nencaminhamento\\nlogica global\\nrouting e definido aqui\\nduas abordagens:\\ntradicional : algoritmos de \\nrouting implementados nos \\nrouters\\nredes definidas por software : \\nimplementado em servidores \\nremotos\\nPlano de controlo tradicional\\nAlgoritmo distribuido de routing\\nComponentes individuais do algoritmo de routing correm em cada router, e \\ntodos interagem entre si\\nPlano de controlo definido por software\\nT04- Camada rede\\n2\\nLogicamente centralizado\\nUm controlador remote interage com agentes locais em cada router\\nPlano de dados\\nAnatomia de um router\\nUm router tem 2 caracteristicas : muitas placas de rede e comutar pacotes\\nFunção chaves: correr protocolos de routing e forwarding datagramas da entrada \\npara a saida\\nPorta de entrada\\nData um endereço destino do datagram, vai fazer um lookup na tabela de \\nencaminhamento\\nobjetivo: processamento a velocidade da linha (daca linia este de 10Gbps ,', 'Data um endereço destino do datagram, vai fazer um lookup na tabela de \\nencaminhamento\\nobjetivo: processamento a velocidade da linha (daca linia este de 10Gbps , \\nprocesul trebuie sa fie de minim 10Gbps pentru nu a incetini pachetele)\\nSe o datagrame chega mais rapido do que a velocidade do modulo de switching\\nT04- Camada rede\\n3\\nTabela de encaminhamento \\n128.16.16.0 → 128.16.23.255 = interface de saida 0\\n128.16.24.0 → 128.16.24.255 = interface de saida 1\\n128.16.24.0 → 128.16.31.255 = interface de saida 2\\ncaso contrario = interface de saida 3\\nGamas de endereço destino\\nInterface saída\\n10000000 00010000 00010000 00000000 →\\n10000000 00010000 00010111 11111111\\n0\\n10000000 00010000 00011000 00000000 →\\n10000000 00010000 00011000 11111111\\n1\\n10000000 00010000 00011000 00000000 →\\n10000000 00010000 00011111 11111111\\n2\\nCaso contrario\\n3\\nModule de comutação \\nTransfere pacote do buffer de entrada para buffer de saida\\nTaxa de comutação : Taxa do pacote que esta enviado da entrada ate a saida\\nTemos 3 tipos : memoria , bus , crossbar\\nSwitching atraves da memoria\\nComputador faze a comutação sob controlo direto do CPU\\nOs pacotes eram copiadas para a memoria do sistema\\nVelocidade era limitada pela banda de memoria\\nSwitching atraves de bus\\nDatagrama e enviada da entrada para saida atraves de um bus partilhado\\na taxa e limitada pela largura de banda do bus\\nT04- Camada rede\\n4\\nPortas de saida\\nNecessario buffering para quando o datagrama chega mais rapido do que', 'a taxa e limitada pela largura de banda do bus\\nT04- Camada rede\\n4\\nPortas de saida\\nNecessario buffering para quando o datagrama chega mais rapido do que \\nvelocidade da linha \\nAlgoritmo de scheduling e usado para escolher qual o proximo pacote transmitir \\nAqui se pode perder pacotes\\nEndereçamento IP\\nAs ligações tem um MTU(Maximum Transmission Unit) → o tamanho maximo \\nque uma datagrama pode ter \\nUm pacote IP de tamanho grade pode ser dividido na rede e depois \\nremontado no destino\\nO endereço IPv4 tem 32 bits\\nInterface: Ligação entre routers, computadores e uma ligação fisica\\nO routers tem multiplas interfaces mas o computador tem 1 ou 2 \\nSubredes\\nEndereço IP\\nbits mais significativo : subrede\\nbits menos significativo: computador\\\\router\\nO que e um subrede:\\nConjunto de dispositivos que pode falar entre si sem necessitar de um \\nrouter\\nT04- Camada rede\\n5\\nCIDR(Classless InterDomain Routing\\nA porção do endereço que identifica a rede tem tamanho arbitrario\\nformato: a.b.c.d/x , onde x e o numero de bits da porção do endereço que \\nidentifica a subrede\\nO computador recebe o seu IP em 2 maneiras :\\nManualmente → configurado pelo admin \\nPor DHCP(Dynamic Host Configuration Protocol) → permite obter endereço \\nIP automaticamente\\nDHCP :\\nDurante un tempo de reserva , renovavel\\nT04- Camada rede\\n6\\nPermite reutilização de endereços \\nUtilizadores moveis podem entrar na rede facilmente \\nComo functiona o protocol:\\n1. O computador faz un broadcast com a mensagem “DHCP discover”\\n2. O servidor DHCP manda uma mensagem “DHCP offer” com um IP \\n3. Faz pedido de endereço com “DHCP request”\\n4. O servidor DHCP confirma com “DHCP ack”\\nNAT ; ICMP ; IPv6\\nT04- Camada rede\\n7', '3. Faz pedido de endereço com “DHCP request”\\n4. O servidor DHCP confirma com “DHCP ack”\\nNAT ; ICMP ; IPv6\\nT04- Camada rede\\n7\\nQuado o datagrama sai da rede local , ela vai pegar o IP do router NAT com \\nport diferente \\nVantagens:\\nE mais seguro \\nOs dispositivos da rede local não são visiveis de fora\\nComo resolver a problema de NAT\\nT04- Camada rede\\n8\\nUsar um dispositivo Universal Plug and Play e protocolo Internet Gateway \\nDevice\\nPermite que um terminal estar atras de NAT\\nICMP : Internat Control Message Protocol\\nUsado pelo computador e routers para trocar informações com a camada de \\nrede(Errors , Echos → ping , requests ,reply\\nStructura : Tipo + Codigo + primeiros 8 bits da datagrama \\nIPv6\\nE um upgrade comparado com IPv4 porque o IPv4 esta a acabar \\nO cabeçalho do IPv6 permite aumentar a velocidade de processamento e de \\nforwarding \\nO cabeçalho tem 40 bits fixo\\nTransição do IPv4 para IPv6\\nUsamos pilhas protocolares duplas (os nos podem enviar IPv4 e IPv6)\\nUsando tuneis \\nEntre routers IPv4 os datagramas IPv6 são enviadas como carga \\n(payload) de uma datagrama IPv4\\nT04- Camada rede\\n9\\nPlano de controlo\\nAlgoritmos de routing \\nT04- Camada rede\\n10\\nClassificação de algoritmos de routing \\nInformação global ou parcial\\nglobal\\nparcial\\nRouters tem noção da topologia\\ncompleta da rede\\nRouters conhece os nos vizinhos\\nRouters distribuem informação local\\ncom todos\\nRouters distribuem a informação global apenas\\ncom os vizinhos\\nExemplos: algoritmo “link state”\\nExemplo: algoritmo “distance vector”\\nAlgoritmos estaticos ou dinamicos\\nEstaticos\\nDinamicos\\nRotas mudam muito lentamento\\nRotas mudam frequentemente\\nTabela de encaminhamento pode ser\\nconfigurada manualmente', 'Estaticos\\nDinamicos\\nRotas mudam muito lentamento\\nRotas mudam frequentemente\\nTabela de encaminhamento pode ser\\nconfigurada manualmente\\nSão feitas atualizações periodicas em\\nresposta a mudanças\\nT04- Camada rede\\n11\\nAlgoritmo Estado de Ligação \\nExemplo: algoritmo de Dijkstra\\nCaracteristicas: \\nA topologia da rede e os custos da ligação são conhecidos por todos os nós \\n(atraves de “link state broadcast”)\\nCada nó calcula os percursos de custo minimo entre si e todos os outros (para \\nconstruir a tabela de encaminhamento)\\nRecalcula periodicamente ou quando alguma ligação sofre alteração\\nAlgoritmo de Dijkstra\\nDistance vector algoritm\\nT04- Camada rede\\n12\\nD_x(y)= Estimativa do custo minimo entre x e y\\nO nó x : \\nConhece o custo para cada vizinho \\nGuarda os vetores distancia dos vizinhos \\nIdeia chave :\\ncada nó envia a sua estimativa de vetor distancia aos vizinhos , \\nperiodicamente \\nQuando recebe um novo vetor distancia , atualiza o seu usando a equação \\nde B-F\\nAlgoritmo iterativo sendo cada iteração local causada por:\\nMudança de custo das ligações locais \\nReceção de um novo vetor distância de um vizinho \\nAlgoritmo distribuido :\\nCada nó apenas notifica os sues vizinhos quando o seu vetor distância \\nsofre alteração \\nRouting hierarquico\\nO routing na Internet e hierarquico com as routers agregados em regios os \\nsistemas autonomos (AS)\\nRouters de mesmo AS correm o mesmo protocolo de routing “intra-AS”\\nComo ligar as diferentes redes?\\nRouting gateway na edge do seu AS tem ligações com routers de outros \\nAs\\nCorrem protocolo de routing “inter-AS”\\nNo caso da Internet este protocolo e o BGP(Border Gateway Protocol)\\nT04- Camada rede\\n13', 'As\\nCorrem protocolo de routing “inter-AS”\\nNo caso da Internet este protocolo e o BGP(Border Gateway Protocol)\\nT04- Camada rede\\n13\\nInterligação entre Ases\\nA tabela de encaminhamento e configurada pelos dois protocolos : intra-AS e \\ninter-AS\\nO intra-AS define as entradas relacionadas com os destinos internos\\nO inter-AS define as entradas relacionadas com os destinos externos \\nBroadcast e multicast\\nRouting Broadcast\\numa possibilidade: enviar os pacotes do emissor para todos os outros nos \\nT04- Camada rede\\n14\\nMuito ineficiente\\nTecnicas de duplicação na rede\\nFlooding: quando um no recebe um pacote broadcast, envia a copia para \\ntodos os vizinhos \\nproblema: criação de ciclos e broadcast storms\\nFlooding controlado: o no faz broadcast do pacote apenas se não o tiver feito \\nanteriormente\\nSpanning tree: permite que nenhum no receba pacotes repetidos\\nSpanning tree\\nSpanning tree → un arvore a qual pertencem todos os nos da rede\\nOs nos depois encaminham os pacotes apenas pela spanning tree\\nRouting multicast\\nMulticast → envia pacotes para os nos que fazem parte da sua rede\\nBroadcast → envia pacotes para todos nos \\nComo unir “ilhas” multicast\\nPara ligar as “ilhas” temos de usar os tuneis\\nEncapsulando o pacote multicast dentro de um pacote “normal”\\nEsse pacote Ip”normal” e enviado atraves de um tunel usando unicast IP para \\no proximo router que  usa multicast\\nO router multicast que recebe esta datagrama “normal” desencapsula e obtem \\no pacote multicast\\nT04- Camada rede\\n15\\nRouting multicast:problema\\nArvores podem ser partilhadas ou podem ser baseadas no emissor \\nAbordagens\\nArvores baseadas no emissor \\nshortest path trees\\nreverse path forwarding (with pruning)\\nArvores partilhadas: \\nminimal Steiner tree\\ncenter -base trees\\nShortest path tree', 'Arvores baseadas no emissor \\nshortest path trees\\nreverse path forwarding (with pruning)\\nArvores partilhadas: \\nminimal Steiner tree\\ncenter -base trees\\nShortest path tree\\nA arvore dos caminhos mais curtos entre o emissor e todos os destinatarios\\nProblema: os destinatarios teriam de ter a visão da rede do ponto de vista do \\nemissor , e conhecer todos os outros destinatarios\\nReverse path forwarding with pruning\\nInicialmente igual ao Broadcast\\nMas a arvore construida pode ter sub-arvores sem membros\\nE ineficiente encaminhar pacotes para este nos\\nSolução: os routers sem membros enviam mensagens “prune” em direção \\nao emissor ate chegar a um router com membros\\nExemplu:\\nDesigur! Hai să explicăm Reverse Path Forwarding cu Pruning în termeni simpli, \\nca și cum ai povesti cuiva care nu e expert în rețele:\\n🧠 Ce e Reverse Path Forwarding (RPF)?\\nT04- Camada rede\\n16\\nImaginează-ți că vrei să trimiți un anunț la toți vecinii tăi, dar nu vrei să-l trimiți de \\nmai multe ori la aceeași casă.\\nRPF este o metodă folosită pentru a trimite pachete multicast (adică de la o sursă \\nla mai mulți destinatari), fără să le trimită în cerc (fără loop-uri).\\n🔁 “Reverse” se referă la faptul că routerul verifică dacă pachetul a venit pe \\nacelași drum pe care l-ar folosi el ca să ajungă înapoi la sursă. Dacă da, păstrează \\npachetul și îl trimite mai departe. Dacă nu, îl aruncă (ca să evite dubluri sau bucle).\\n🌿 Ce înseamnă „Pruning”?\\nGândește-te că ai trimis anunțul către toate casele, dar unele îți spun:', '🌿 Ce înseamnă „Pruning”?\\nGândește-te că ai trimis anunțul către toate casele, dar unele îți spun:\\n“Hei, la noi nu locuiește nimeni care vrea acest anunț, nu mai \\ntrimite aici!”\\nAsta e pruning – o curățare.\\nRouterele care nu au destinatari pentru acel flux multicast trimit un semnal înapoi, \\nspunând:\\n„Te rog, nu-mi mai trimite pachetele astea”.\\nAstfel, fluxul de date nu mai trece prin ele inutil – ceea ce salvează bandă și \\nresurse.\\n🧩 Cum funcționează împreună?\\n1. La început, pachetele multicast se trimit cam peste tot (flooding controlat cu \\nRPF).\\n2. Routerele verifică dacă pachetul a venit pe drumul corect spre sursă (RPF).\\n3. Dacă routerul nu are clienți interesați de acel flux, trimite un mesaj de „prune” \\nîn sus.\\n4. După ce se stabilizează, doar routerele care au nevoie de pachet îl mai \\nprimesc.\\nT04- Camada rede\\n17\\n🔍 Un exemplu:\\nSursa: un server video live.\\nDestinatari: doar 3 din 10 calculatoare din rețea vor să vadă.\\nLa început, video-ul se trimite peste tot.\\n7 calculatoare spun “nu ne interesează” (prune).\\nPachetele ajung doar la cele 3 care vor – eficiență!\\nArvores partilhadas: steiner tree\\nSteiner tree: a arvore de custo minimo que liga todos os routers que tem \\nmembros\\nSolução otima , mas não existe nenhum algoritmo eficiente que permita \\nchegar a esse otimo\\nCenter-based tree', 'membros\\nSolução otima , mas não existe nenhum algoritmo eficiente que permita \\nchegar a esse otimo\\nCenter-based tree\\nTambem uma unica arvore partilhada por todos\\nUm dos nos e identificado como sendo o centro ou a raiz da arvore\\nPara o no se juntar a arvore, router envia mensagem unicast join para o router \\ncentral\\n🌳 Ce e Center-Based Tree?\\nEste o metodă de trimitere a datelor multicast, dar în loc să le trimiți peste tot (ca \\nla început în RPF), alegi un punct central numit rendezvous point (RP), adică un \\npunct de întâlnire.\\nToți cei care vor datele (abonatul A, B, C…) vin și se conectează la acest RP.\\n🔄 Cum funcționează:\\n1. Sursa trimite datele către RP (centrul).\\nT04- Camada rede\\n18\\n2. Destinatarii (cei care vor pachetul) se conectează și ei la RP.\\n3. Datele merg de la sursă → RP → destinatari, printr-un arbore (tree) care \\npleacă din RP.\\n4. Arborele are ramuri doar către nodurile care chiar au nevoie de date – foarte \\neficient!\\nT04- Camada rede\\n19']\n"
     ]
    }
   ],
   "execution_count": 29
  },
  {
   "metadata": {
    "ExecuteTime": {
     "end_time": "2025-06-05T01:34:49.322821Z",
     "start_time": "2025-06-05T01:34:47.477897Z"
    }
   },
   "cell_type": "code",
   "source": [
    "model = SentenceTransformer('all-MiniLM-L6-v2')\n",
    "def transformer(chunk):\n",
    "\n",
    "    embeddings = model.encode(chunk).tolist()\n",
    "    return embeddings"
   ],
   "id": "1a076ecb40be8a94",
   "outputs": [],
   "execution_count": 47
  },
  {
   "metadata": {
    "ExecuteTime": {
     "end_time": "2025-06-05T01:33:10.347078Z",
     "start_time": "2025-06-05T01:33:10.343387Z"
    }
   },
   "cell_type": "code",
   "source": [
    "def vector_db(chunks,chunk_transformed):\n",
    "    client=chromadb.Client()\n",
    "    try:\n",
    "        collection=client.create_collection('my_collection')\n",
    "        print(\"created collection\")\n",
    "    except Exception as e:\n",
    "        collection=client.get_collection('my_collection')\n",
    "\n",
    "    for i,embedding in enumerate(chunk_transformed):\n",
    "        collection.add(\n",
    "            documents=[chunks[i]],\n",
    "            embeddings=[embedding],\n",
    "            ids=[str(i)]\n",
    "        )\n",
    "\n",
    "    return collection"
   ],
   "id": "7194439d44e44941",
   "outputs": [],
   "execution_count": 44
  },
  {
   "metadata": {
    "ExecuteTime": {
     "end_time": "2025-06-05T00:51:19.165657Z",
     "start_time": "2025-06-05T00:51:18.999918Z"
    }
   },
   "cell_type": "code",
   "source": [
    "text=get_pdf('T04_Camada_Rede.pdf')\n",
    "chunks=chunking(text)\n",
    "chunks_transformed=transformer(chunks)\n",
    "vector=vector_db(chunks,chunks_transformed)\n",
    "\n",
    "print(vector)"
   ],
   "id": "622c1cda46f7a864",
   "outputs": [
    {
     "name": "stdout",
     "output_type": "stream",
     "text": [
      "Collection(name=my_collection)\n"
     ]
    }
   ],
   "execution_count": 16
  },
  {
   "metadata": {
    "ExecuteTime": {
     "end_time": "2025-06-05T00:53:33.280315Z",
     "start_time": "2025-06-05T00:53:33.120947Z"
    }
   },
   "cell_type": "code",
   "source": [
    "text = get_pdf(\"T04_Camada_Rede.pdf\")\n",
    "print(f\"Text extras (primii 300 caractere): {text[:300]}...\")\n",
    "print(\"---------------------------\")\n",
    "chunks = chunking(text)\n",
    "print(f\"Număr chunk-uri: {len(chunks)}\")\n",
    "print(\"---------------------------\")\n",
    "print(f\"Primul chunk: {chunks[0]}\")\n",
    "\n",
    "embeddings = transformer(chunks)\n",
    "print(\"---------------------------\")\n",
    "print(f\"Dimensiune embedding primul chunk: {len(embeddings[0])}\")\n",
    "print(\"---------------------------\")\n",
    "\n",
    "collection = vector_db(chunks, embeddings)\n",
    "print(f\"Număr documente în colecție: {len(collection.get(include=[\"documents\"])['documents'])}\")"
   ],
   "id": "142f2cd41ac60045",
   "outputs": [
    {
     "name": "stdout",
     "output_type": "stream",
     "text": [
      "Text extras (primii 300 caractere): T04- Camada rede\n",
      "Subjects\n",
      "RC\n",
      "Serviços da camada de rede\n",
      "Transporte de datagramas entre computadores\n",
      "Os protocolos desta camada correm nos nós terminais e nos routers \n",
      "Os routers examinam os cabeçalhos IP de todos os datagramas\n",
      "Duas funções chave\n",
      "Routing → Determine o caminho origem-destino , Ação gl...\n",
      "---------------------------\n",
      "Număr chunk-uri: 9\n",
      "---------------------------\n",
      "Primul chunk: T04- Camada rede\n",
      "Subjects\n",
      "RC\n",
      "Serviços da camada de rede\n",
      "Transporte de datagramas entre computadores\n",
      "Os protocolos desta camada correm nos nós terminais e nos routers \n",
      "Os routers examinam os cabeçalhos IP de todos os datagramas\n",
      "Duas funções chave\n",
      "Routing → Determine o caminho origem-destino , Ação global\n",
      "Forwarding → Mover pacotes que chega no router para a saída apropriada; \n",
      "Ação local no router\n",
      "Analogia: \n",
      "O routing e planeamento de uma viagem\n",
      "O forwarding e a passar um cruzamento \n",
      "Routing vs forwarding \n",
      "algoritmo de routing → Determina a rota através da rede\n",
      "tabela forwarding local → Determina como o pacote deve ser encaminhado neste \n",
      "router \n",
      "Plano de dados e Plano de controlo\n",
      "Plano de dados:\n",
      "Plano de controlo:\n",
      "T04- Camada rede\n",
      "1\n",
      "função local em cada router\n",
      "determina o caminho de \n",
      "datagrama e a saida\n",
      "encaminhamento\n",
      "logica global\n",
      "routing e definido aqui\n",
      "duas abordagens:\n",
      "tradicional : algoritmos de \n",
      "routing implementados nos \n",
      "routers\n",
      "redes definidas por software : \n",
      "implementado em servidores \n",
      "remotos\n",
      "Plano de controlo tradicional\n",
      "Algoritmo distribuido de routing\n",
      "Componentes individuais do algoritmo de routing correm em cada router, e \n",
      "todos interagem entre si\n",
      "Plano de controlo definido por software\n",
      "T04- Camada rede\n",
      "2\n",
      "Logicamente centralizado\n",
      "Um controlador remote interage com agentes locais em cada router\n",
      "Plano de dados\n",
      "Anatomia de um router\n",
      "Um router tem 2 caracteristicas : muitas placas de rede e comutar pacotes\n",
      "Função chaves: correr protocolos de routing e forwarding datagramas da entrada \n",
      "para a saida\n",
      "Porta de entrada\n",
      "Data um endereço destino do datagram, vai fazer um lookup na tabela de \n",
      "encaminhamento\n",
      "objetivo: processamento a velocidade da linha (daca linia este de 10Gbps ,\n",
      "---------------------------\n",
      "Dimensiune embedding primul chunk: 384\n",
      "---------------------------\n",
      "Număr documente în colecție: 9\n"
     ]
    }
   ],
   "execution_count": 19
  },
  {
   "metadata": {
    "ExecuteTime": {
     "end_time": "2025-06-05T01:28:33.934953Z",
     "start_time": "2025-06-05T01:28:33.890516Z"
    }
   },
   "cell_type": "code",
   "source": [
    "llm = OllamaLLM(model=\"llama3.2\")\n",
    "def query_vector_db(collection,query,top_k=3):\n",
    "    query_embeddings = model.encode(query).tolist()\n",
    "    result=collection.query(query_embeddings=[query_embeddings],n_results=top_k)\n",
    "    relevant_text=result['documents'][0]\n",
    "    context=\"\\n\".join(relevant_text)\n",
    "    prompt=f\"Answer the following question with this material:\\n{context}\\n Question: {query}\"\n",
    "    return llm(prompt)"
   ],
   "id": "92c0c12bf7a95a3c",
   "outputs": [],
   "execution_count": 36
  },
  {
   "metadata": {},
   "cell_type": "code",
   "outputs": [],
   "execution_count": null,
   "source": "",
   "id": "f16ddea35b6d483b"
  },
  {
   "metadata": {
    "ExecuteTime": {
     "end_time": "2025-06-05T01:34:59.497051Z",
     "start_time": "2025-06-05T01:34:51.081216Z"
    }
   },
   "cell_type": "code",
   "source": [
    "if __name__ == \"__main__\":\n",
    "    file_path = \"T04_Camada_Rede.pdf\"\n",
    "    text = get_pdf(file_path)\n",
    "    chunks = chunking(text)\n",
    "    embeddings = transformer(chunks)\n",
    "    collection = vector_db(chunks, embeddings)\n",
    "\n",
    "    intrebare = \"Care este subiectul principal al documentului?\"\n",
    "    raspuns = query_vector_db(collection, intrebare)\n",
    "    print(\"Răspuns:\", raspuns)"
   ],
   "id": "1e22046f0b3e19b7",
   "outputs": [
    {
     "name": "stdout",
     "output_type": "stream",
     "text": [
      "Răspuns: Subiectul principal al documentului este despre Networking și rețele, mai precis despre mecanismele de trimitere a datelor într-o rețea (multicast) și despre diferite soluții pentru optimizarea transferului de date. Documentul abordează teme como:\n",
      "\n",
      "- Pruning, o curățare a routerelor care nu au destinatari\n",
      "- Arbores partilhate pentru a distribui datelor în mod eficient între membrii unei rețele\n",
      "- Center-Based Tree, o metoda de trimitere a datelor multicast prin utilizarea unui punct central (rendezvous point)\n",
      "- Problema de NAT și cum se poate rezolva\n",
      "- Algoritmi de routing, inclusiv clasificarea lor în funcție de informații pe care le conțin și de modalitățile în care distribuiesc date intr-un rețea.\n"
     ]
    }
   ],
   "execution_count": 48
  },
  {
   "metadata": {},
   "cell_type": "code",
   "outputs": [],
   "execution_count": null,
   "source": "",
   "id": "dea14bf28dc39357"
  }
 ],
 "metadata": {
  "kernelspec": {
   "display_name": "Python 3",
   "language": "python",
   "name": "python3"
  },
  "language_info": {
   "codemirror_mode": {
    "name": "ipython",
    "version": 2
   },
   "file_extension": ".py",
   "mimetype": "text/x-python",
   "name": "python",
   "nbconvert_exporter": "python",
   "pygments_lexer": "ipython2",
   "version": "2.7.6"
  }
 },
 "nbformat": 4,
 "nbformat_minor": 5
}
